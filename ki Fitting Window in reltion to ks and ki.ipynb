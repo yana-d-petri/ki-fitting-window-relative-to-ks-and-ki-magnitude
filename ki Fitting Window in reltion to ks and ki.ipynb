{
 "cells": [
  {
   "cell_type": "code",
   "execution_count": 1,
   "id": "e8ab6c73",
   "metadata": {},
   "outputs": [],
   "source": [
    "import pandas\n",
    "import numpy as np\n",
    "import pylab as plt\n",
    "import scipy\n",
    "from scipy.optimize import curve_fit\n",
    "import os\n",
    "os.environ[\"PATH\"] += os.pathsep + '/usr/local/texlive/2021/bin/x86_64-linux'\n",
    "import matplotlib\n",
    "matplotlib.use('TkAgg')\n",
    "import matplotlib.pyplot as plt"
   ]
  },
  {
   "cell_type": "code",
   "execution_count": 2,
   "id": "cb1d5cab",
   "metadata": {},
   "outputs": [],
   "source": [
    "plt.style.use('bmh')\n",
    "plt.rc('text', usetex=True)"
   ]
  },
  {
   "cell_type": "code",
   "execution_count": 3,
   "id": "6356aed6",
   "metadata": {},
   "outputs": [],
   "source": [
    "font = {'family':'serif','size':30, 'serif': ['computer modern roman']}\n",
    "plt.rc('font',**font)"
   ]
  },
  {
   "cell_type": "code",
   "execution_count": 4,
   "id": "28d993e5",
   "metadata": {},
   "outputs": [],
   "source": [
    "plt.rcParams['text.latex.preamble'] = r'\\usepackage{amsmath}'\n",
    "plt.rc('axes', grid=False, facecolor='white')"
   ]
  },
  {
   "cell_type": "code",
   "execution_count": 5,
   "id": "5d20fe2d",
   "metadata": {
    "scrolled": true
   },
   "outputs": [],
   "source": [
    "#Here, we are using a simple RIP model (S --> I --> P with rate constants ks and ki, respectively)\n",
    "#S stands for substrate, I for intermediate, and P for product\n",
    "#Test various ki and ks (with the constraint that ks > ki)\n",
    "#Test also various tmin and tmax for finding different fitting windows\n",
    "#Hopefelly, you will be convinced that as long as ks > ki, there will be a fitting window for fitting ki\n",
    "#The larger is ks relative to ki, the better and more accurate is the fit, and the larger is the fitting window\n",
    "#However, even when ki = 1 and ks = 1.001, the fitted ki output in the  window tmin = 3.5 and tmax = 10 \n",
    "#is still decent\n",
    "#The RIP model is not an exact match to our model, but it's a good approximation in the large [E]0 regime\n",
    "#The fact that ks > ki holds (is not >>), our Eq S22 is valid\n",
    "\n",
    "ki = 1\n",
    "ks = 1.001\n",
    "\n",
    "#Make a time array (sample array of 10 min, where time points were taken every 20 seconds)\n",
    "def generate_time_array():\n",
    "    return np.arange(0, 600 + 20, 20) / 60\n",
    "\n",
    "t = generate_time_array()\n",
    "\n",
    "#Equations from the RIP model\n",
    "P = 1-((ki*np.exp(-ks*t)-ks*np.exp(-ki*t))/(ki-ks))\n",
    "\n",
    "#We gave P_std some error; this can also be modulated (see how SD error on the fitted k_I changes)\n",
    "P_std = np.full(len(P), 0.03) \n",
    "\n",
    "#Equations from the RIP model\n",
    "S = np.exp(-ks*t) \n",
    "I = (ks/(ki-ks))*((np.exp(-ks*t)-np.exp(-ki*t)))\n",
    "overlay_search = ki*I-ks*S\n",
    "\n",
    "#Defining the windown of time in which kI will be fit\n",
    "#To find a fitting window, choose tmin where the red and the green curve are close  \n",
    "tmin = 3.5\n",
    "tmax = 10\n",
    "\n",
    "plt.axvline(x=tmin,linestyle='dashed',color='black',alpha=0.2)\n",
    "plt.axvline(x=tmax,linestyle='dashed',color='black',alpha=0.2)\n",
    "\n",
    "plt.plot(t,P,'k-',linewidth=2.5)\n",
    "plt.plot(t,P+P_std,'k-',linewidth=1,alpha=0.3,label='STD')\n",
    "plt.plot(t,P-P_std,'k-',linewidth=1,alpha=0.3)#,label='_nolegend_')\n",
    "plt.plot(t,S,'b-',linewidth=2.5, label='S')\n",
    "plt.plot(t,I,'g-',linewidth=2.5, label='I')\n",
    "plt.plot(t,overlay_search,'r-',linewidth=2.5, label='kiI-ksS')\n",
    "plt.xlabel('Time (s)')\n",
    "plt.ylabel('[P]t (uM)')\n",
    "plt.title('[P]t with STD error vs time')\n",
    "plt.legend(fontsize='x-small')\n",
    "plt.ylim(0, None)\n",
    "x_ticks = np.arange(min(t), max(t) + 1, 1) \n",
    "plt.xticks(x_ticks)\n",
    "\n",
    "# window of time that will be used for the fit\n",
    "window = (t>tmin)*(t<tmax)"
   ]
  },
  {
   "cell_type": "code",
   "execution_count": 6,
   "id": "7138796b",
   "metadata": {},
   "outputs": [
    {
     "name": "stdout",
     "output_type": "stream",
     "text": [
      "original k_I we chose = 1\n",
      "fitted k_I = 0.8097169220802756\n",
      "SD error on the fitted k_I = 0.3992360294734046\n"
     ]
    }
   ],
   "source": [
    "### Definining the formula [P]t = [P]inf - [I]tmin*e^(-ki*(t-tmin)) with three free fitting parameters\n",
    "def func(t,Pinf,Itmin,kI): return Pinf - Itmin*np.exp(-kI*(t-tmin)) \n",
    "\n",
    "#Fitting the three independent parameters using curve_fit\n",
    "#p0=[10,10,0.01] are the initial guesses as to what Pinf,Itmin, and kI are 10 uM, 10 uM, and 0.01 s-1, respectively\n",
    "#The output is not too sensitive to initial guesses\n",
    "parameters = curve_fit(func,t[window],P[window],p0=[0.9,0.3,0.5],sigma=P_std[window],absolute_sigma=True)\n",
    "Pinf,Itmin,kI = parameters[0]\n",
    "\n",
    "#parameters[1] contains the covariance matrix; square root of the diagonal values are standard deviations\n",
    "Pinf_SD,Itmin_SD,kI_SD = np.sqrt(np.diag(parameters[1]))\n",
    "\n",
    "print(\"original k_I we chose =\", ki)\n",
    "print(\"fitted k_I =\", kI)\n",
    "print(\"SD error on the fitted k_I =\", kI_SD)\n",
    "\n",
    "plt.show()"
   ]
  }
 ],
 "metadata": {
  "kernelspec": {
   "display_name": "Python 3 (ipykernel)",
   "language": "python",
   "name": "python3"
  },
  "language_info": {
   "codemirror_mode": {
    "name": "ipython",
    "version": 3
   },
   "file_extension": ".py",
   "mimetype": "text/x-python",
   "name": "python",
   "nbconvert_exporter": "python",
   "pygments_lexer": "ipython3",
   "version": "3.11.7"
  }
 },
 "nbformat": 4,
 "nbformat_minor": 5
}
